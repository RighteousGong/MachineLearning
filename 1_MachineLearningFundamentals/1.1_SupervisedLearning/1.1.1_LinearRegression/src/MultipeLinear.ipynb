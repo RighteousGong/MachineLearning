{
 "cells": [
  {
   "cell_type": "code",
   "execution_count": 37,
   "id": "initial_id",
   "metadata": {
    "collapsed": true,
    "ExecuteTime": {
     "end_time": "2024-01-15T07:20:57.214120800Z",
     "start_time": "2024-01-15T07:20:57.205125400Z"
    }
   },
   "outputs": [],
   "source": [
    "import numpy as np\n",
    "import matplotlib.pyplot as plt\n",
    "np.set_printoptions(precision=2)  # reduced display precision on numpy arrays"
   ]
  },
  {
   "cell_type": "code",
   "execution_count": 38,
   "outputs": [],
   "source": [
    "# 训练集\n",
    "#       2104  5  1  45             460\n",
    "# x =   1416  3  2  40       y =   232\n",
    "#        852  2  1  35             178\n",
    "X_train = np.array([[2104, 5, 1, 45], \n",
    "                    [1416, 3, 2, 40], \n",
    "                    [852, 2, 1, 35]])\n",
    "y_train = np.array([460, 232, 178])"
   ],
   "metadata": {
    "collapsed": false,
    "ExecuteTime": {
     "end_time": "2024-01-15T07:20:57.666484100Z",
     "start_time": "2024-01-15T07:20:57.652445500Z"
    }
   },
   "id": "d233a9fc37f25259"
  },
  {
   "cell_type": "code",
   "execution_count": 39,
   "outputs": [],
   "source": [
    "# 损失函数\n",
    "def function_cost(X, y, w, b): \n",
    "    \"\"\"\n",
    "    compute cost\n",
    "    Args:\n",
    "      X (ndarray (m,n)): Data, m examples with n features\n",
    "      y (ndarray (m,)) : target values\n",
    "      w (ndarray (n,)) : model parameters  \n",
    "      b (scalar)       : model parameter\n",
    "      \n",
    "    Returns:\n",
    "      cost (scalar): cost\n",
    "    \"\"\"\n",
    "    m = X.shape[0]\n",
    "    cost = 0.0\n",
    "    for i in range(m):                                \n",
    "        f_wb_i = np.dot(X[i], w) + b           #(n,)(n,) = scalar (see np.dot)\n",
    "        cost = cost + (f_wb_i - y[i])**2       #scalar\n",
    "    cost = cost / (2 * m)                      #scalar    \n",
    "    return cost"
   ],
   "metadata": {
    "collapsed": false,
    "ExecuteTime": {
     "end_time": "2024-01-15T07:20:58.133263800Z",
     "start_time": "2024-01-15T07:20:58.120202500Z"
    }
   },
   "id": "9d3a7bc54af251a8"
  },
  {
   "cell_type": "code",
   "execution_count": 40,
   "outputs": [],
   "source": [
    "# 计算偏导数\n",
    "def function_gradient(X, y, w, b):\n",
    "    m,n = X.shape\n",
    "    dj_dw = np.zeros((n,)) # 一行n列\n",
    "    dj_db = 0.\n",
    "    \n",
    "    for i in range(m):\n",
    "        error = np.dot(X[i], w) + b - y[i]\n",
    "        for j in range(n):\n",
    "            dj_dw[j] = dj_dw[j] + error * X[i, j]\n",
    "        dj_db = dj_db + error\n",
    "    \n",
    "    dj_dw = dj_dw / m\n",
    "    dj_db = dj_db / m\n",
    "    \n",
    "    return dj_dw, dj_db"
   ],
   "metadata": {
    "collapsed": false,
    "ExecuteTime": {
     "end_time": "2024-01-15T07:20:58.651927200Z",
     "start_time": "2024-01-15T07:20:58.626291400Z"
    }
   },
   "id": "497598e09756bdb4"
  },
  {
   "cell_type": "code",
   "execution_count": 41,
   "outputs": [],
   "source": [
    "def gradient_descent(X, y, w_star, b_star, alpha, iterations, cost_function, gradient_function):\n",
    "    # 如果x为空，结束\n",
    "    m = X.shape[0]\n",
    "    if m == 0:\n",
    "        return 0\n",
    "    \n",
    "    j_history = []\n",
    "    w = w_star\n",
    "    b = b_star\n",
    "    \n",
    "    for i in range(iterations):\n",
    "        cost = cost_function(X, y, w, b)\n",
    "        dj_w, dj_b = gradient_function(X, y, w, b)\n",
    "        \n",
    "        j_history.append(cost)\n",
    "        w = w - alpha * dj_w\n",
    "        b = b - alpha * dj_b\n",
    "        \n",
    "    return w, b, j_history"
   ],
   "metadata": {
    "collapsed": false,
    "ExecuteTime": {
     "end_time": "2024-01-15T07:20:59.197993200Z",
     "start_time": "2024-01-15T07:20:59.184941800Z"
    }
   },
   "id": "b2823d3c401e31a8"
  },
  {
   "cell_type": "code",
   "execution_count": 52,
   "outputs": [],
   "source": [
    "# 归一化\n",
    "def Zscore_Normalization(X):\n",
    "    x_mean = np.mean(X, axis=0)\n",
    "    x_sigma = np.std(X, axis=0)\n",
    "    x_norm = (X - x_mean) / x_sigma\n",
    "    \n",
    "    return x_norm"
   ],
   "metadata": {
    "collapsed": false,
    "ExecuteTime": {
     "end_time": "2024-01-15T07:26:50.409679600Z",
     "start_time": "2024-01-15T07:26:50.383807Z"
    }
   },
   "id": "b7178d38568bacd7"
  },
  {
   "cell_type": "code",
   "execution_count": 53,
   "outputs": [
    {
     "name": "stdout",
     "output_type": "stream",
     "text": [
      "[[2104    5    1   45]\n",
      " [1416    3    2   40]\n",
      " [ 852    2    1   35]]\n",
      "[[ 1.26  1.34 -0.71  1.22]\n",
      " [-0.08 -0.27  1.41  0.  ]\n",
      " [-1.18 -1.07 -0.71 -1.22]]\n",
      "b,w found by gradient descent: 24.96,[ 9.24  9.54 -3.42  9.06] \n",
      "prediction: 19920.50, target value: 460\n",
      "prediction: 13494.73, target value: 232\n",
      "prediction: 8231.26, target value: 178\n"
     ]
    }
   ],
   "source": [
    "w_in = np.zeros(4)\n",
    "b_in = 0.\n",
    "iterations = 100000\n",
    "alpha = 9e-7\n",
    "\n",
    "# 归一化\n",
    "X_norm = Zscore_Normalization(X_train)\n",
    "print(X_train)\n",
    "print(X_norm)\n",
    "\n",
    "w_final, b_final, J_hist = gradient_descent(X_norm, y_train, w_in, b_in,alpha, iterations,\n",
    "                                                    function_cost, function_gradient)\n",
    "print(f\"b,w found by gradient descent: {b_final:0.2f},{w_final} \")\n",
    "m,_ = X_train.shape\n",
    "for i in range(m):\n",
    "    print(f\"prediction: {np.dot(X_train[i], w_final) + b_final:0.2f}, target value: {y_train[i]}\")"
   ],
   "metadata": {
    "collapsed": false,
    "ExecuteTime": {
     "end_time": "2024-01-15T07:26:53.008247600Z",
     "start_time": "2024-01-15T07:26:50.991253700Z"
    }
   },
   "id": "9660b2d8236b1e92"
  },
  {
   "cell_type": "code",
   "execution_count": null,
   "outputs": [],
   "source": [],
   "metadata": {
    "collapsed": false
   },
   "id": "577f1b2e4a2f45b2"
  }
 ],
 "metadata": {
  "kernelspec": {
   "display_name": "Python 3",
   "language": "python",
   "name": "python3"
  },
  "language_info": {
   "codemirror_mode": {
    "name": "ipython",
    "version": 2
   },
   "file_extension": ".py",
   "mimetype": "text/x-python",
   "name": "python",
   "nbconvert_exporter": "python",
   "pygments_lexer": "ipython2",
   "version": "2.7.6"
  }
 },
 "nbformat": 4,
 "nbformat_minor": 5
}
